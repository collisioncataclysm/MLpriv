{
 "cells": [
  {
   "cell_type": "code",
   "execution_count": 1,
   "metadata": {},
   "outputs": [],
   "source": [
    "from mltrace import Component, clean_db\n",
    "from mltrace.client import create_labels, retract_labels\n",
    "\n",
    "import matplotlib.pyplot as plt\n",
    "import numpy as np\n",
    "import pandas as pd\n",
    "import random\n",
    "import seaborn as sns\n",
    "import string\n",
    "import time"
   ]
  },
  {
   "cell_type": "code",
   "execution_count": 2,
   "metadata": {},
   "outputs": [],
   "source": [
    "%load_ext autoreload\n",
    "%autoreload 2"
   ]
  },
  {
   "cell_type": "code",
   "execution_count": 3,
   "metadata": {},
   "outputs": [],
   "source": [
    "# Params\n",
    "\n",
    "max_num_labels = int(1e6)\n",
    "step_size = 10000"
   ]
  },
  {
   "cell_type": "code",
   "execution_count": 4,
   "metadata": {},
   "outputs": [],
   "source": [
    "c = Component(\n",
    "        name=\"test-ifc-commit\",\n",
    "        owner=\"shreya\",\n",
    "        description=\"Measures commit time with varying amount of labels.\",\n",
    "        tags=[\"nyc-taxicab\"],\n",
    "    )"
   ]
  },
  {
   "cell_type": "code",
   "execution_count": 5,
   "metadata": {},
   "outputs": [],
   "source": [
    "@c.run(input_vars={\"inputs\": \"labels\"}, output_vars=[\"outputs\"])\n",
    "def run_fake_computation_with_labels(inputs, labels):\n",
    "    outputs = inputs * 2\n",
    "    return outputs"
   ]
  },
  {
   "cell_type": "code",
   "execution_count": 6,
   "metadata": {},
   "outputs": [],
   "source": [
    "@c.run(input_vars=[\"inputs\"], output_vars=[\"outputs\"])\n",
    "def run_fake_computation_without_labels(inputs):\n",
    "    outputs = inputs * 2\n",
    "    return outputs"
   ]
  },
  {
   "cell_type": "code",
   "execution_count": 7,
   "metadata": {},
   "outputs": [],
   "source": [
    "def create_label(size=10, chars=string.ascii_uppercase):\n",
    "    return \"\".join(random.choice(chars) for _ in range(size))"
   ]
  },
  {
   "cell_type": "code",
   "execution_count": 8,
   "metadata": {},
   "outputs": [
    {
     "name": "stdout",
     "output_type": "stream",
     "text": [
      "1\n",
      "propagating\n",
      "propagated\n",
      "propagating\n",
      "propagated\n",
      "10001\n",
      "propagating\n",
      "propagated\n",
      "propagating\n",
      "propagated\n",
      "20001\n",
      "propagating\n",
      "propagated\n",
      "propagating\n",
      "propagated\n",
      "30001\n",
      "propagating\n",
      "propagated\n",
      "propagating\n",
      "propagated\n",
      "40001\n",
      "propagating\n",
      "propagated\n",
      "propagating\n",
      "propagated\n",
      "50001\n",
      "propagating\n",
      "propagated\n",
      "propagating\n",
      "propagated\n",
      "60001\n",
      "propagating\n",
      "propagated\n",
      "propagating\n",
      "propagated\n",
      "70001\n",
      "propagating\n",
      "propagated\n",
      "propagating\n",
      "propagated\n",
      "80001\n",
      "propagating\n",
      "propagated\n",
      "propagating\n",
      "propagated\n",
      "90001\n",
      "propagating\n",
      "propagated\n",
      "propagating\n",
      "propagated\n",
      "100001\n"
     ]
    }
   ],
   "source": [
    "ifc_results = {}\n",
    "without_ifc_results = {}\n",
    "\n",
    "for num_labels in range(1, max_num_labels, step_size):\n",
    "    print(num_labels)\n",
    "    inputs = np.random.rand(1000)\n",
    "    labels = [create_label() for _ in range(num_labels)]\n",
    "\n",
    "    # time the computation\n",
    "    start_time = time.time()\n",
    "    run_fake_computation_with_labels(inputs=inputs, labels=labels)\n",
    "    end_time = time.time()\n",
    "    clean_db()\n",
    "\n",
    "    # Log time\n",
    "    ifc_results[num_labels] = end_time - start_time\n",
    "\n",
    "    start_time = time.time()\n",
    "    run_fake_computation_without_labels(inputs=inputs)\n",
    "    end_time = time.time()\n",
    "    without_ifc_results[num_labels] = end_time - start_time\n",
    "    clean_db()\n"
   ]
  },
  {
   "cell_type": "code",
   "execution_count": null,
   "metadata": {},
   "outputs": [],
   "source": [
    "# Make plots\n",
    "\n",
    "ifc_df = pd.DataFrame({\"num_labels\": list(ifc_results.keys()), \"time\": list(ifc_results.values()), \"label\": \"ifc\"})\n",
    "without_ifc_df = pd.DataFrame({\"num_labels\": list(without_ifc_results.keys()), \"time\": list(without_ifc_results.values()), \"label\": \"without_ifc\"})\n",
    "df = pd.concat([ifc_df, without_ifc_df])\n",
    "\n",
    "sns.set(style=\"darkgrid\")\n",
    "sns.lineplot(x=\"num_labels\", y=\"time\", style=\"label\", data=df)"
   ]
  },
  {
   "cell_type": "markdown",
   "metadata": {},
   "source": [
    "## Experiments to assess how runtime changes with number of steps in the pipeline (should be linear)"
   ]
  },
  {
   "cell_type": "code",
   "execution_count": null,
   "metadata": {},
   "outputs": [],
   "source": [
    "# Vary number of steps in the pipeline\n",
    "\n",
    "ifc_results = {}\n",
    "without_ifc_results = {}\n",
    "num_steps_in_pipeline = 10\n",
    "\n",
    "for num_steps in range(1, num_steps_in_pipeline):\n",
    "    print(num_labels)\n",
    "    inputs = np.random.rand(1000)\n",
    "    labels = [create_label() for _ in range(step_size)]\n",
    "\n",
    "    # time the computation\n",
    "    start_time = time.time()\n",
    "    for _ in range(num_steps):\n",
    "        inputs = run_fake_computation_with_labels(inputs=inputs, labels=labels)\n",
    "    end_time = time.time()\n",
    "    clean_db()\n",
    "\n",
    "    # Log time\n",
    "    ifc_results[num_steps] = end_time - start_time\n",
    "\n",
    "    start_time = time.time()\n",
    "    for _ in range(num_steps):\n",
    "        inputs = run_fake_computation_without_labels(inputs=inputs, labels=labels)\n",
    "    end_time = time.time()\n",
    "    without_ifc_results[num_steps] = end_time - start_time\n",
    "    clean_db()"
   ]
  },
  {
   "cell_type": "markdown",
   "metadata": {},
   "source": [
    "## Experiments to assess how pipeline runtime varies with number of labels deleted"
   ]
  },
  {
   "cell_type": "code",
   "execution_count": null,
   "metadata": {},
   "outputs": [],
   "source": [
    "# Add 100k labels. Delete from 1 to 100k labels.\n",
    "\n",
    "ifc_results = {}\n",
    "without_ifc_results = {}\n",
    "deletion_times = {}\n",
    "preliminary_labels = [create_label() for _ in range(max_num_labels)]\n",
    "\n",
    "for num_labels in range(1, max_num_labels, step_size):\n",
    "    print(num_labels)\n",
    "    inputs = np.random.rand(1000)\n",
    "    labels = [create_label() for _ in range(step_size)]\n",
    "    \n",
    "    # Add labels to DB\n",
    "    create_labels(preliminary_labels)\n",
    "\n",
    "    # Delete labels from DB\n",
    "    random_subset = preliminary_labels[random.sample(range(max_num_labels), num_labels)]\n",
    "    start_time = time.time()\n",
    "    retract_labels(random_subset)  \n",
    "    end_time = time.time()\n",
    "    deletion_times[num_labels] = end_time - start_time\n",
    "\n",
    "    # time the computation\n",
    "    start_time = time.time()\n",
    "    run_fake_computation_with_labels(inputs=inputs, labels=labels)\n",
    "    end_time = time.time()\n",
    "\n",
    "    # Log time\n",
    "    ifc_results[num_labels] = end_time - start_time\n",
    "\n",
    "    start_time = time.time()\n",
    "    run_fake_computation_without_labels(inputs=inputs)\n",
    "    end_time = time.time()\n",
    "    without_ifc_results[num_labels] = end_time - start_time\n",
    "    \n",
    "    # Clean DB\n",
    "    clean_db()"
   ]
  }
 ],
 "metadata": {
  "interpreter": {
   "hash": "1442a8543d4fcd85d93b3c62576fa736adecb0a392b0ccce28a9ee4d447083de"
  },
  "kernelspec": {
   "display_name": "Python 3.9.6 64-bit ('toy-ml-pipeline': conda)",
   "language": "python",
   "name": "python3"
  },
  "language_info": {
   "codemirror_mode": {
    "name": "ipython",
    "version": 3
   },
   "file_extension": ".py",
   "mimetype": "text/x-python",
   "name": "python",
   "nbconvert_exporter": "python",
   "pygments_lexer": "ipython3",
   "version": "3.9.6"
  },
  "orig_nbformat": 4
 },
 "nbformat": 4,
 "nbformat_minor": 2
}
